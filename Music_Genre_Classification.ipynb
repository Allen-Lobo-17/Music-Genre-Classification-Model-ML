{
  "nbformat": 4,
  "nbformat_minor": 0,
  "metadata": {
    "colab": {
      "name": "Music Genre Classification.ipynb",
      "provenance": [],
      "collapsed_sections": [],
      "include_colab_link": true
    },
    "kernelspec": {
      "name": "python3",
      "display_name": "Python 3"
    },
    "language_info": {
      "name": "python"
    }
  },
  "cells": [
    {
      "cell_type": "markdown",
      "metadata": {
        "id": "view-in-github",
        "colab_type": "text"
      },
      "source": [
        "<a href=\"https://colab.research.google.com/github/talex172/Music-Genre-Classification-Model-ML/blob/main/Music_Genre_Classification.ipynb\" target=\"_parent\"><img src=\"https://colab.research.google.com/assets/colab-badge.svg\" alt=\"Open In Colab\"/></a>"
      ]
    },
    {
      "cell_type": "code",
      "execution_count": null,
      "metadata": {
        "id": "lDs4fwkSmhJU",
        "outputId": "898a1657-123b-4493-f38e-423bc53cff22",
        "colab": {
          "base_uri": "https://localhost:8080/",
          "height": 374
        }
      },
      "outputs": [
        {
          "output_type": "error",
          "ename": "ModuleNotFoundError",
          "evalue": "ignored",
          "traceback": [
            "\u001b[0;31m---------------------------------------------------------------------------\u001b[0m",
            "\u001b[0;31mModuleNotFoundError\u001b[0m                       Traceback (most recent call last)",
            "\u001b[0;32m<ipython-input-1-c7a108e5fa85>\u001b[0m in \u001b[0;36m<module>\u001b[0;34m()\u001b[0m\n\u001b[0;32m----> 1\u001b[0;31m \u001b[0;32mfrom\u001b[0m \u001b[0mpython_speech_features\u001b[0m \u001b[0;32mimport\u001b[0m \u001b[0mmfcc\u001b[0m\u001b[0;34m\u001b[0m\u001b[0;34m\u001b[0m\u001b[0m\n\u001b[0m\u001b[1;32m      2\u001b[0m \u001b[0;32mimport\u001b[0m \u001b[0mscipy\u001b[0m\u001b[0;34m.\u001b[0m\u001b[0mio\u001b[0m\u001b[0;34m.\u001b[0m\u001b[0mwavfile\u001b[0m \u001b[0;32mas\u001b[0m \u001b[0mwav\u001b[0m\u001b[0;34m\u001b[0m\u001b[0;34m\u001b[0m\u001b[0m\n\u001b[1;32m      3\u001b[0m \u001b[0;32mimport\u001b[0m \u001b[0mnumpy\u001b[0m \u001b[0;32mas\u001b[0m \u001b[0mnp\u001b[0m\u001b[0;34m\u001b[0m\u001b[0;34m\u001b[0m\u001b[0m\n\u001b[1;32m      4\u001b[0m \u001b[0;34m\u001b[0m\u001b[0m\n\u001b[1;32m      5\u001b[0m \u001b[0;32mfrom\u001b[0m \u001b[0mtempfile\u001b[0m \u001b[0;32mimport\u001b[0m \u001b[0mTemporaryFile\u001b[0m\u001b[0;34m\u001b[0m\u001b[0;34m\u001b[0m\u001b[0m\n",
            "\u001b[0;31mModuleNotFoundError\u001b[0m: No module named 'python_speech_features'",
            "",
            "\u001b[0;31m---------------------------------------------------------------------------\u001b[0;32m\nNOTE: If your import is failing due to a missing package, you can\nmanually install dependencies using either !pip or !apt.\n\nTo view examples of installing some common dependencies, click the\n\"Open Examples\" button below.\n\u001b[0;31m---------------------------------------------------------------------------\u001b[0m\n"
          ],
          "errorDetails": {
            "actions": [
              {
                "action": "open_url",
                "actionText": "Open Examples",
                "url": "/notebooks/snippets/importing_libraries.ipynb"
              }
            ]
          }
        }
      ],
      "source": [
        "from python_speech_features import mfcc\n",
        "import scipy.io.wavfile as wav\n",
        "import numpy as np\n",
        "\n",
        "from tempfile import TemporaryFile\n",
        "import os\n",
        "import pickle\n",
        "import random \n",
        "import operator\n",
        "\n",
        "import math\n",
        "import numpy as np"
      ]
    },
    {
      "cell_type": "code",
      "source": [
        "def getNeighbors(trainingSet, instance, k):\n",
        "    distances = []\n",
        "    for x in range (len(trainingSet)):\n",
        "        dist = distance(trainingSet[x], instance, k )+ distance(instance, trainingSet[x], k)\n",
        "        distances.append((trainingSet[x][2], dist))\n",
        "    distances.sort(key=operator.itemgetter(1))\n",
        "    neighbors = []\n",
        "    for x in range(k):\n",
        "        neighbors.append(distances[x][0])\n",
        "    return neighbors"
      ],
      "metadata": {
        "id": "DTLW4Ndqm_1z"
      },
      "execution_count": null,
      "outputs": []
    },
    {
      "cell_type": "code",
      "source": [
        "def nearestClass(neighbors):\n",
        "    classVote = {}\n",
        "\n",
        "    for x in range(len(neighbors)):\n",
        "        response = neighbors[x]\n",
        "        if response in classVote:\n",
        "            classVote[response]+=1 \n",
        "        else:\n",
        "            classVote[response]=1\n",
        "\n",
        "    sorter = sorted(classVote.items(), key = operator.itemgetter(1), reverse=True)\n",
        "    return sorter[0][0]"
      ],
      "metadata": {
        "id": "Q7LpmDZZnDg5"
      },
      "execution_count": null,
      "outputs": []
    },
    {
      "cell_type": "code",
      "source": [
        "def getAccuracy(testSet, predictions):\n",
        "    correct = 0 \n",
        "    for x in range (len(testSet)):\n",
        "        if testSet[x][-1]==predictions[x]:\n",
        "            correct+=1\n",
        "    return 1.0*correct/len(testSet)"
      ],
      "metadata": {
        "id": "qO76NGjNnFxs"
      },
      "execution_count": null,
      "outputs": []
    },
    {
      "cell_type": "code",
      "source": [
        "directory = \"__path_to_dataset__\"\n",
        "f= open(\"my.dat\" ,'wb')\n",
        "i=0\n",
        "\n",
        "for folder in os.listdir(directory):\n",
        "    i+=1\n",
        "    if i==11 :\n",
        "        break   \n",
        "    for file in os.listdir(directory+folder):  \n",
        "        (rate,sig) = wav.read(directory+folder+\"/\"+file)\n",
        "        mfcc_feat = mfcc(sig,rate ,winlen=0.020, appendEnergy = False)\n",
        "        covariance = np.cov(np.matrix.transpose(mfcc_feat))\n",
        "        mean_matrix = mfcc_feat.mean(0)\n",
        "        feature = (mean_matrix , covariance , i)\n",
        "        pickle.dump(feature , f)\n",
        "\n",
        "f.close()"
      ],
      "metadata": {
        "id": "9fSvxpbKnGPx"
      },
      "execution_count": null,
      "outputs": []
    },
    {
      "cell_type": "code",
      "source": [
        "dataset = []\n",
        "def loadDataset(filename , split , trSet , teSet):\n",
        "    with open(\"my.dat\" , 'rb') as f:\n",
        "        while True:\n",
        "            try:\n",
        "                dataset.append(pickle.load(f))\n",
        "            except EOFError:\n",
        "                f.close()\n",
        "                break  \n",
        "\n",
        "    for x in range(len(dataset)):\n",
        "        if random.random() <split :      \n",
        "            trSet.append(dataset[x])\n",
        "        else:\n",
        "            teSet.append(dataset[x])  \n",
        "\n",
        "trainingSet = []\n",
        "testSet = []\n",
        "loadDataset(\"my.dat\" , 0.66, trainingSet, testSet)"
      ],
      "metadata": {
        "id": "QxeXgXDWnIK0"
      },
      "execution_count": null,
      "outputs": []
    },
    {
      "cell_type": "code",
      "source": [
        "leng = len(testSet)\n",
        "predictions = []\n",
        "for x in range (leng):\n",
        "    predictions.append(nearestClass(getNeighbors(trainingSet ,testSet[x] , 5))) \n",
        "\n",
        "accuracy1 = getAccuracy(testSet , predictions)\n",
        "print(accuracy1)"
      ],
      "metadata": {
        "id": "MavAcnI7nMuj"
      },
      "execution_count": null,
      "outputs": []
    },
    {
      "cell_type": "markdown",
      "source": [
        "# New Section"
      ],
      "metadata": {
        "id": "1gLvCyfyofMK"
      }
    }
  ]
}